{
 "cells": [
  {
   "cell_type": "code",
   "execution_count": 8,
   "id": "555f045b",
   "metadata": {},
   "outputs": [
    {
     "name": "stdout",
     "output_type": "stream",
     "text": [
      "Time using formula: 0.00030112266540527344 sec\n",
      "Time using the brute force: 0.15403032302856445 sec\n"
     ]
    }
   ],
   "source": [
    "\"\"\"\n",
    "Measuring time I\n",
    "In the lecture slides, you saw how the time.time() function can be loaded and used to assess the time required to \n",
    "perform a basic mathematical operation.\n",
    "\n",
    "Now, you will use the same strategy to assess two different methods for solving a similar problem: calculate \n",
    "the sum of squares of all the positive integers from 1 to 1 million (1,000,000).\n",
    "\n",
    "Similar to what you saw in the video, you will compare two methods; one that uses brute force and \n",
    "one more mathematically sophisticated.\n",
    "\n",
    "In the function formula, we use the standard formula\n",
    "\n",
    " \n",
    "where N=1,000,000.\n",
    "\n",
    "In the function brute_force we loop over each number from 1 to 1 million and add it to the result.\n",
    "\n",
    "\n",
    "\"\"\"\n",
    "\n",
    "import time\n",
    "def formula(N):\n",
    "    return (N*(N+1)*(2*N+1))/6\n",
    "\n",
    "def brute_force(N):\n",
    "    result = 0\n",
    "    for x in range(1,N):\n",
    "        result = result + (x*x)\n",
    "    return result\n",
    "\n",
    "# Calculate the result of the problem using formula() and print the time required\n",
    "N = 1000000\n",
    "fm_start_time = time.time()\n",
    "first_method = formula(N)\n",
    "print(\"Time using formula: {} sec\".format(time.time() - fm_start_time))\n",
    "\n",
    "# Calculate the result of the problem using brute_force() and print the time required\n",
    "sm_start_time = time.time()\n",
    "second_method = brute_force(N)\n",
    "print(\"Time using the brute force: {} sec\".format(time.time() - sm_start_time))"
   ]
  },
  {
   "cell_type": "code",
   "execution_count": 10,
   "id": "a114d544",
   "metadata": {},
   "outputs": [
    {
     "name": "stdout",
     "output_type": "stream",
     "text": [
      "Time using list comprehension: 0.0009946823120117188 sec\n",
      "Time using for loop: 0.0009319782257080078 sec\n"
     ]
    }
   ],
   "source": [
    "\"\"\"\n",
    "Measuring time II\n",
    "As we discussed in the lectures, in the majority of cases, a list comprehension is faster than a for loop.\n",
    "\n",
    "In this demonstration, you will see a case where a list comprehension and a for loop have so small\n",
    "difference in efficiency that choosing either method will perform this simple task instantly.\n",
    "\n",
    "In the list words, there are random words downloaded from the Internet. We are interested to create \n",
    "another list called listlet in which we only keep the words that start with the letter b.\n",
    "\n",
    "In case you are not familiar with dealing with strings in Python, each string has the .startswith()\n",
    "attribute, which returns a True/False statement whether the string starts with a specific letter/phrase or not.\n",
    "\"\"\"\n",
    "\n",
    "import time\n",
    "\n",
    "words = \"['<html>', '<head><title>404 Not Found</title></head>', '<body>', '<center><h1>404 Not Found</h1></center>', '<hr><center>nginx</center>', '</body>', '</html>']\"\n",
    "\n",
    "\n",
    "# Store the time before the execution\n",
    "start_time = time.time()\n",
    "\n",
    "# Execute the operation\n",
    "letlist = [wrd for wrd in words if wrd.startswith('b')]\n",
    "\n",
    "# Store and print the difference between the start and the current time\n",
    "total_time_lc = time.time() - start_time\n",
    "print('Time using list comprehension: {} sec'.format(total_time_lc))\n",
    "\n",
    "# Store the time before the execution\n",
    "start_time = time.time()\n",
    "\n",
    "# Execute the operation\n",
    "letlist = []\n",
    "for wrd in words:\n",
    "    if wrd.startswith('b'):\n",
    "        letlist.append(wrd)\n",
    "        \n",
    "# Print the difference between the start and the current time\n",
    "total_time_fl = time.time() - start_time\n",
    "print('Time using for loop: {} sec'.format(total_time_fl))"
   ]
  },
  {
   "cell_type": "code",
   "execution_count": 13,
   "id": "5a973b91",
   "metadata": {},
   "outputs": [
    {
     "name": "stdout",
     "output_type": "stream",
     "text": [
      "Time using .loc[]: 0.004452228546142578 sec\n",
      "Time using .iloc[]: 0.0006456375122070312 sec\n"
     ]
    }
   ],
   "source": [
    "\"\"\"\n",
    "Row selection: loc[] vs iloc[]\n",
    "A big part of working with DataFrames is to locate specific entries in the dataset. You can locate rows in two ways:\n",
    "\n",
    "By a specific value of a column (feature).\n",
    "By the index of the rows (index). In this exercise, we will focus on the second way.\n",
    "If you have previous experience with pandas, you should be familiar with the .loc and .iloc \n",
    "indexers, which stands for 'location' and 'index location' respectively. In most cases, \n",
    "the indices will be the same as the position of each row in the Dataframe (e.g. the row with index 13 will be the 14th entry).\n",
    "\n",
    "While we can use both functions to perform the same task, we are interested in which is the most efficient in terms of speed.\n",
    "\"\"\"\n",
    "# Import pandas as pd\n",
    "import pandas as pd\n",
    "poker_hands = pd.read_csv(\"poker-hand-testing.csv\")\n",
    "# Define the range of rows to select: row_nums\n",
    "row_nums = range(0, 1000)\n",
    "\n",
    "# Select the rows using .loc[] and row_nums and record the time before and after\n",
    "loc_start_time = time.time()\n",
    "rows = poker_hands.loc[row_nums]\n",
    "loc_end_time = time.time()\n",
    "\n",
    "# Print the time it took to select the rows using .loc[]\n",
    "print(\"Time using .loc[]: {} sec\".format(loc_end_time - loc_start_time))\n",
    "\n",
    "\n",
    "# Select the rows using .iloc[] and row_nums and record the time before and after\n",
    "iloc_start_time = time.time()\n",
    "rows = poker_hands.iloc[row_nums]\n",
    "iloc_end_time = time.time()\n",
    "\n",
    "# Print the time it took to select the rows using .iloc\n",
    "print(\"Time using .iloc[]: {} sec\".format(iloc_end_time-iloc_start_time))\n"
   ]
  },
  {
   "cell_type": "code",
   "execution_count": null,
   "id": "46ce502a",
   "metadata": {},
   "outputs": [],
   "source": []
  }
 ],
 "metadata": {
  "kernelspec": {
   "display_name": "Python 3 (ipykernel)",
   "language": "python",
   "name": "python3"
  },
  "language_info": {
   "codemirror_mode": {
    "name": "ipython",
    "version": 3
   },
   "file_extension": ".py",
   "mimetype": "text/x-python",
   "name": "python",
   "nbconvert_exporter": "python",
   "pygments_lexer": "ipython3",
   "version": "3.9.12"
  }
 },
 "nbformat": 4,
 "nbformat_minor": 5
}
