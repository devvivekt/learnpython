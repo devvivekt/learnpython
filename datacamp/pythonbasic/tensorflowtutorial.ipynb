{
 "cells": [
  {
   "cell_type": "code",
   "execution_count": 12,
   "id": "437619c0",
   "metadata": {
    "scrolled": true
   },
   "outputs": [],
   "source": [
    "import pandas as pd\n",
    "df = pd.read_csv(\"Credit_Card.csv\")\n",
    "fd2 = df[['EDUCATION','MARRIAGE','AGE','BILL_AMT1']]\n",
    "fd2.to_csv('creditcard.csv')\n"
   ]
  },
  {
   "cell_type": "code",
   "execution_count": 13,
   "id": "7d7224fb",
   "metadata": {},
   "outputs": [
    {
     "name": "stdout",
     "output_type": "stream",
     "text": [
      "\n",
      " The datatype is: <dtype: 'float64'>\n",
      "\n",
      " The shape is: (30000, 4)\n"
     ]
    }
   ],
   "source": [
    "# Import constant from TensorFlow\n",
    "from tensorflow import constant\n",
    "import numpy as np\n",
    "credit_numpy = fd2.to_numpy()\n",
    "\n",
    "# Convert the credit_numpy array into a tensorflow constant\n",
    "credit_constant = constant(credit_numpy)\n",
    "\n",
    "# Print constant datatype\n",
    "print('\\n The datatype is:', credit_constant.dtype)\n",
    "\n",
    "# Print constant shape\n",
    "print('\\n The shape is:', credit_constant.shape)"
   ]
  },
  {
   "cell_type": "code",
   "execution_count": 15,
   "id": "ad8fab45",
   "metadata": {},
   "outputs": [
    {
     "name": "stdout",
     "output_type": "stream",
     "text": [
      "\n",
      " A1:  <tf.Variable 'Variable:0' shape=(4,) dtype=int32, numpy=array([1, 2, 3, 4])>\n",
      "\n",
      " B1:  [1 2 3 4]\n"
     ]
    }
   ],
   "source": [
    "from tensorflow import Variable\n",
    "# Define the 1-dimensional variable A1\n",
    "A1 = Variable([1, 2, 3, 4])\n",
    "\n",
    "# Print the variable A1\n",
    "print('\\n A1: ', A1)\n",
    "\n",
    "# Convert A1 to a numpy array and assign it to B1\n",
    "B1 = A1.numpy()\n",
    "\n",
    "# Print B1\n",
    "print('\\n B1: ', B1)"
   ]
  },
  {
   "cell_type": "code",
   "execution_count": 17,
   "id": "7fbcaa81",
   "metadata": {},
   "outputs": [
    {
     "name": "stdout",
     "output_type": "stream",
     "text": [
      "\n",
      " C1: [1 2 3 4]\n",
      "\n",
      " C23: [[1 2 3]\n",
      " [1 6 4]]\n"
     ]
    }
   ],
   "source": [
    "from tensorflow import ones_like\n",
    "\n",
    "# Define tensors A1 and A23 as constants\n",
    "A1 = constant([1, 2, 3, 4])\n",
    "A23 = constant([[1, 2, 3], [1, 6, 4]])\n",
    "\n",
    "# Define B1 and B23 to have the correct shape\n",
    "B1 = ones_like(A1)\n",
    "B23 = ones_like(A23)\n",
    "\n",
    "# Perform element-wise multiplication\n",
    "C1 = A1*B1\n",
    "C23 = A23*B23\n",
    "\n",
    "# Print the tensors C1 and C23\n",
    "print('\\n C1: {}'.format(C1.numpy()))\n",
    "print('\\n C23: {}'.format(C23.numpy()))"
   ]
  },
  {
   "cell_type": "code",
   "execution_count": 19,
   "id": "aeab795d",
   "metadata": {},
   "outputs": [
    {
     "name": "stdout",
     "output_type": "stream",
     "text": [
      "[[-1687]\n",
      " [-3218]\n",
      " [-1933]\n",
      " [57850]]\n"
     ]
    }
   ],
   "source": [
    "from tensorflow import matmul\n",
    "\n",
    "# Define features, params, and bill as constants\n",
    "features = constant([[2, 24], [2, 26], [2, 57], [1, 37]])\n",
    "params = constant([[1000], [150]])\n",
    "bill = constant([[3913], [2682], [8617], [64400]])\n",
    "\n",
    "# Compute billpred using features and params\n",
    "billpred = matmul(features,params)\n",
    "\n",
    "# Compute and print the error\n",
    "error = bill - billpred\n",
    "print(error.numpy())"
   ]
  },
  {
   "cell_type": "code",
   "execution_count": 23,
   "id": "170c77b9",
   "metadata": {},
   "outputs": [
    {
     "name": "stdout",
     "output_type": "stream",
     "text": [
      "tf.Tensor(\n",
      "[[11 50]\n",
      " [ 7  2]\n",
      " [ 4 60]\n",
      " [ 3  0]\n",
      " [25 10]], shape=(5, 2), dtype=int32)\n",
      "[ 50 122]\n",
      "[61  9 64  3 35]\n"
     ]
    }
   ],
   "source": [
    "from tensorflow import reduce_sum\n",
    "#You've been given a matrix, wealth. This contains the value of bond and stock wealth \n",
    "#for five individuals in thousands of dollars.\n",
    "#The first column corresponds to bonds and the second corresponds to stocks. \n",
    "#Each row gives the bond and stock wealth for a single individual. \n",
    "#Use wealth, reduce_sum(), and .numpy() to determine which statements are correct about wealth.\n",
    "\n",
    "np_wealth = np.array([[11, 50],\n",
    " [ 7 , 2],\n",
    " [ 4, 60],\n",
    " [ 3,  0],\n",
    " [25, 10]])\n",
    "wealth = constant(np_wealth)\n",
    "print(wealth)\n",
    "#sum of each column\n",
    "print(reduce_sum(wealth,0).numpy())\n",
    "# sum of each row\n",
    "print(reduce_sum(wealth,1).numpy())"
   ]
  },
  {
   "cell_type": "code",
   "execution_count": 2,
   "id": "d3bd8657",
   "metadata": {},
   "outputs": [
    {
     "name": "stdout",
     "output_type": "stream",
     "text": [
      "(183, 275)\n",
      "(28, 28)\n",
      "(183, 275, 3)\n",
      "(28, 28, 3)\n",
      "<class 'numpy.ndarray'>\n"
     ]
    }
   ],
   "source": [
    "import cv2\n",
    "image = \"signa.jpg\"\n",
    "imColor = cv2.imread(image,cv2.IMREAD_UNCHANGED)\n",
    "imColor_resized = cv2.resize(imColor,(28,28))\n",
    "imgGrey = cv2.imread(image, cv2.IMREAD_GRAYSCALE)\n",
    "imgGrey_resized = cv2.resize(imgGrey,(28,28))\n",
    "print(imgGrey.shape)\n",
    "print(imgGrey_resized.shape)\n",
    "print(imColor.shape)\n",
    "print(imColor_resized.shape)\n",
    "print(type(imgGrey_resized))"
   ]
  },
  {
   "cell_type": "code",
   "execution_count": 5,
   "id": "7793c960",
   "metadata": {},
   "outputs": [
    {
     "name": "stdout",
     "output_type": "stream",
     "text": [
      "<class 'tensorflow.python.framework.ops.EagerTensor'>\n",
      "<class 'tensorflow.python.framework.ops.EagerTensor'>\n"
     ]
    }
   ],
   "source": [
    "from tensorflow import reshape\n",
    "# Reshape the grayscale image tensor into a vector\n",
    "gray_tensor = imgGrey_resized\n",
    "color_tensor = imColor_resized\n",
    "gray_vector = reshape(gray_tensor, (784, 1))\n",
    "\n",
    "# Reshape the color image tensor into a vector\n",
    "color_vector = reshape(color_tensor, (2352, 1))\n",
    "print(type(gray_vector))\n",
    "print(type(color_vector))"
   ]
  },
  {
   "cell_type": "code",
   "execution_count": 9,
   "id": "6e23dd1e",
   "metadata": {},
   "outputs": [
    {
     "name": "stdout",
     "output_type": "stream",
     "text": [
      "-2.0\n",
      "2.0\n",
      "0.0\n"
     ]
    }
   ],
   "source": [
    "from tensorflow import Variable\n",
    "from tensorflow import GradientTape\n",
    "from tensorflow import multiply\n",
    "\n",
    "\n",
    "def compute_gradient(x0):\n",
    "  \t# Define x as a variable with an initial value of x0\n",
    "\tx = Variable(x0)\n",
    "\twith GradientTape() as tape:\n",
    "\t\ttape.watch(x)\n",
    "        # Define y using the multiply operation\n",
    "\t\ty =multiply(x,x)\n",
    "    # Return the gradient of y with respect to x\n",
    "\treturn tape.gradient(y, x).numpy()\n",
    "\n",
    "# Compute and print gradients at x = -1, 1, and 0\n",
    "print(compute_gradient(-1.0))\n",
    "print(compute_gradient(1.0))\n",
    "print(compute_gradient(0.0))"
   ]
  },
  {
   "cell_type": "code",
   "execution_count": 20,
   "id": "8071b81c",
   "metadata": {},
   "outputs": [
    {
     "name": "stdout",
     "output_type": "stream",
     "text": [
      "1.0\n",
      "<class 'tensorflow.python.framework.ops.EagerTensor'>\n",
      "<class 'numpy.float32'>\n"
     ]
    }
   ],
   "source": [
    "from tensorflow import matmul\n",
    "from tensorflow import reshape\n",
    "from tensorflow import constant\n",
    "from tensorflow import reduce_sum\n",
    "\n",
    "\n",
    "model = constant([[ 1.0,  0.0, -1.0]])\n",
    "letter = constant([[1.0, 0.0, 1.0],\n",
    " [1.0, 1.0, 0.0],\n",
    " [1.0, 0.0, 1.0]])\n",
    "\n",
    "# Reshape model from a 1x3 to a 3x1 tensor\n",
    "model = reshape(model, (3, 1))\n",
    "\n",
    "# Multiply letter by model\n",
    "output = matmul(letter, model)\n",
    "\n",
    "# Sum over output and print prediction using the numpy method\n",
    "prediction = reduce_sum(output)\n",
    "print(prediction.numpy())\n",
    "print(type(prediction))\n",
    "print(type(prediction.numpy()))"
   ]
  },
  {
   "cell_type": "code",
   "execution_count": null,
   "id": "f55a6bdb",
   "metadata": {},
   "outputs": [],
   "source": []
  }
 ],
 "metadata": {
  "kernelspec": {
   "display_name": "Python 3 (ipykernel)",
   "language": "python",
   "name": "python3"
  },
  "language_info": {
   "codemirror_mode": {
    "name": "ipython",
    "version": 3
   },
   "file_extension": ".py",
   "mimetype": "text/x-python",
   "name": "python",
   "nbconvert_exporter": "python",
   "pygments_lexer": "ipython3",
   "version": "3.9.12"
  }
 },
 "nbformat": 4,
 "nbformat_minor": 5
}
