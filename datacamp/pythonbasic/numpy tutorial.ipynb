{
 "cells": [
  {
   "cell_type": "code",
   "execution_count": 1,
   "id": "8bd49399",
   "metadata": {},
   "outputs": [
    {
     "data": {
      "text/plain": [
       "array([1, 2, 3, 4])"
      ]
     },
     "execution_count": 1,
     "metadata": {},
     "output_type": "execute_result"
    }
   ],
   "source": [
    "import numpy\n",
    "numpy.array([1,2,3,4])"
   ]
  },
  {
   "cell_type": "code",
   "execution_count": 2,
   "id": "d5288bc4",
   "metadata": {},
   "outputs": [
    {
     "data": {
      "text/plain": [
       "array([4, 5, 6, 7])"
      ]
     },
     "execution_count": 2,
     "metadata": {},
     "output_type": "execute_result"
    }
   ],
   "source": [
    "import numpy as np\n",
    "np.array([4,5,6,7])"
   ]
  },
  {
   "cell_type": "code",
   "execution_count": 3,
   "id": "3131af8d",
   "metadata": {},
   "outputs": [
    {
     "data": {
      "text/plain": [
       "array([4, 3, 5, 6])"
      ]
     },
     "execution_count": 3,
     "metadata": {},
     "output_type": "execute_result"
    }
   ],
   "source": [
    "from numpy import array\n",
    "array([4,3,5,6])"
   ]
  },
  {
   "cell_type": "code",
   "execution_count": 4,
   "id": "335d9856",
   "metadata": {},
   "outputs": [
    {
     "name": "stdout",
     "output_type": "stream",
     "text": [
      "Circumference: 2.701769682087222\n",
      "Area: 0.5808804816487527\n"
     ]
    }
   ],
   "source": [
    "# Import the math package\n",
    "import math\n",
    "# Definition of radius\n",
    "r = 0.43\n",
    "\n",
    "# Calculate C\n",
    "C = 2*math.pi*r\n",
    "\n",
    "# Calculate A\n",
    "A = math.pi*r*r\n",
    "\n",
    "# Build printout\n",
    "print(\"Circumference: \" + str(C))\n",
    "print(\"Area: \" + str(A))"
   ]
  },
  {
   "cell_type": "code",
   "execution_count": 5,
   "id": "44f17d40",
   "metadata": {},
   "outputs": [
    {
     "name": "stdout",
     "output_type": "stream",
     "text": [
      "40317.10572106901\n"
     ]
    }
   ],
   "source": [
    "# Definition of radius\n",
    "r = 192500\n",
    "\n",
    "# Import radians function of math package\n",
    "from math import radians\n",
    "\n",
    "# Travel distance of Moon over 12 degrees. Store in dist.\n",
    "phi = radians(12)\n",
    "dist = r*phi\n",
    "\n",
    "# Print out dist\n",
    "print(dist)"
   ]
  },
  {
   "cell_type": "code",
   "execution_count": 7,
   "id": "89f729a2",
   "metadata": {},
   "outputs": [
    {
     "data": {
      "text/plain": [
       "array([[-2. ,  1. ],\n",
       "       [ 1.5, -0.5]])"
      ]
     },
     "execution_count": 7,
     "metadata": {},
     "output_type": "execute_result"
    }
   ],
   "source": [
    "from scipy.linalg import inv as my_inv\n",
    "my_inv([[1,2],[3,4]])"
   ]
  },
  {
   "cell_type": "code",
   "execution_count": 8,
   "id": "481c2edf",
   "metadata": {},
   "outputs": [
    {
     "name": "stdout",
     "output_type": "stream",
     "text": [
      "<class 'numpy.ndarray'>\n"
     ]
    }
   ],
   "source": [
    "# Create list baseball\n",
    "baseball = [180, 215, 210, 210, 188, 176, 209, 200]\n",
    "\n",
    "# Import the numpy package as np\n",
    "import numpy as np\n",
    "\n",
    "# Create a numpy array from baseball: np_baseball\n",
    "np_baseball = np.array(baseball)\n",
    "\n",
    "# Print out type of np_baseball\n",
    "print(type(np_baseball))"
   ]
  },
  {
   "cell_type": "code",
   "execution_count": 10,
   "id": "ea51b048",
   "metadata": {},
   "outputs": [
    {
     "name": "stdout",
     "output_type": "stream",
     "text": [
      "[7.  6.  5.5 6.  8. ]\n",
      "[0.1778 0.1524 0.1397 0.1524 0.2032]\n"
     ]
    }
   ],
   "source": [
    "# height_in is available as a regular list\n",
    "\n",
    "# Import numpy\n",
    "import numpy as np\n",
    "height_in = [7,6,5.5, 6, 8]\n",
    "\n",
    "# Create a numpy array from height_in: np_height_in\n",
    "np_height_in = np.array(height_in)\n",
    "\n",
    "# Print out np_height_in\n",
    "\n",
    "print(np_height_in)\n",
    "\n",
    "# Convert np_height_in to m: np_height_m\n",
    "np_height_m = np_height_in*.0254\n",
    "\n",
    "# Print np_height_m\n",
    "print(np_height_m)"
   ]
  },
  {
   "cell_type": "code",
   "execution_count": 17,
   "id": "12000efb",
   "metadata": {},
   "outputs": [
    {
     "name": "stdout",
     "output_type": "stream",
     "text": [
      "[23.11037639 19.96882384 18.48965171 13.56228793]\n"
     ]
    }
   ],
   "source": [
    "# height_in and weight_lb are available as regular lists\n",
    "height_in = [74,65,78,72]\n",
    "weight_lb = [180,120,160,100]\n",
    "# Import numpy\n",
    "import numpy as np\n",
    "\n",
    "# Create array from height_in with metric units: np_height_m\n",
    "np_height_m = np.array(height_in) * 0.0254\n",
    "\n",
    "# Create array from weight_lb with metric units: np_weight_kg\n",
    "np_weight_kg = np.array(weight_lb) * 0.453592\n",
    "\n",
    "# Calculate the BMI: bmi\n",
    "bmi = np_weight_kg/np_height_m**2\n",
    "\n",
    "# Print out bmi\n",
    "print(bmi)"
   ]
  },
  {
   "cell_type": "code",
   "execution_count": 18,
   "id": "5bcc6656",
   "metadata": {},
   "outputs": [
    {
     "name": "stdout",
     "output_type": "stream",
     "text": [
      "[False  True  True  True]\n",
      "[19.96882384 18.48965171 13.56228793]\n"
     ]
    }
   ],
   "source": [
    "# height_in and weight_lb are available as a regular lists\n",
    "\n",
    "# Import numpy\n",
    "import numpy as np\n",
    "\n",
    "# Calculate the BMI: bmi\n",
    "np_height_m = np.array(height_in) * 0.0254\n",
    "np_weight_kg = np.array(weight_lb) * 0.453592\n",
    "bmi = np_weight_kg / np_height_m ** 2\n",
    "\n",
    "# Create the light array\n",
    "\n",
    "light = bmi < 21\n",
    "\n",
    "# Print out light\n",
    "print(light)\n",
    "\n",
    "# Print out BMIs of all baseball players whose BMI is below 21\n",
    "\n",
    "print(bmi[light])\n"
   ]
  },
  {
   "cell_type": "code",
   "execution_count": 19,
   "id": "d7d85ea1",
   "metadata": {},
   "outputs": [
    {
     "data": {
      "text/plain": [
       "array([4, 5, 2])"
      ]
     },
     "execution_count": 19,
     "metadata": {},
     "output_type": "execute_result"
    }
   ],
   "source": [
    "np.array([True, 1, 2]) + np.array([3, 4, False])"
   ]
  },
  {
   "cell_type": "code",
   "execution_count": 20,
   "id": "31d8848e",
   "metadata": {},
   "outputs": [],
   "source": [
    "arr = np.array([True, 1, 2])"
   ]
  },
  {
   "cell_type": "code",
   "execution_count": 21,
   "id": "63c8b08f",
   "metadata": {},
   "outputs": [
    {
     "name": "stdout",
     "output_type": "stream",
     "text": [
      "[1 1 2]\n"
     ]
    }
   ],
   "source": [
    "print(arr)"
   ]
  },
  {
   "cell_type": "code",
   "execution_count": 22,
   "id": "243d4564",
   "metadata": {},
   "outputs": [
    {
     "name": "stdout",
     "output_type": "stream",
     "text": [
      "160\n",
      "[78 72]\n"
     ]
    }
   ],
   "source": [
    "# height_in and weight_lb are available as a regular lists\n",
    "\n",
    "# Import numpy\n",
    "import numpy as np\n",
    "\n",
    "# Store weight and height lists as numpy arrays\n",
    "np_weight_lb = np.array(weight_lb)\n",
    "np_height_in = np.array(height_in)\n",
    "\n",
    "# Print out the weight at index 50\n",
    "print(np_weight_lb[2])\n",
    "\n",
    "# Print out sub-array of np_height_in: index 100 up to and including index 110\n",
    "\n",
    "print(np_height_in[2:4])"
   ]
  },
  {
   "cell_type": "code",
   "execution_count": 23,
   "id": "db9c22cf",
   "metadata": {},
   "outputs": [
    {
     "name": "stdout",
     "output_type": "stream",
     "text": [
      "<class 'numpy.ndarray'>\n",
      "(4, 2)\n"
     ]
    }
   ],
   "source": [
    "# Create baseball, a list of lists\n",
    "baseball = [[180, 78.4],\n",
    "            [215, 102.7],\n",
    "            [210, 98.5],\n",
    "            [188, 75.2]]\n",
    "\n",
    "# Import numpy\n",
    "import numpy as np\n",
    "\n",
    "# Create a 2D numpy array from baseball: np_baseball\n",
    "np_baseball = np.array(baseball)\n",
    "\n",
    "# Print out the type of np_baseball\n",
    "print(type(np_baseball))\n",
    "\n",
    "# Print out the shape of np_baseball\n",
    "print(np_baseball.shape)"
   ]
  },
  {
   "cell_type": "code",
   "execution_count": 24,
   "id": "ad76c832",
   "metadata": {},
   "outputs": [
    {
     "name": "stdout",
     "output_type": "stream",
     "text": [
      "(4, 2)\n"
     ]
    }
   ],
   "source": [
    "# baseball is available as a regular list of lists\n",
    "\n",
    "# Import numpy package\n",
    "import numpy as np\n",
    "\n",
    "# Create a 2D numpy array from baseball: np_baseball\n",
    "np_baseball = np.array(baseball)\n",
    "# Print out the shape of np_baseball\n",
    "print(np_baseball.shape)"
   ]
  },
  {
   "cell_type": "code",
   "execution_count": 25,
   "id": "218e0979",
   "metadata": {},
   "outputs": [
    {
     "name": "stdout",
     "output_type": "stream",
     "text": [
      "[ 65 120]\n",
      "68\n"
     ]
    }
   ],
   "source": [
    "# baseball is available as a regular list of lists\n",
    "baseball = [[77,100],[71,110],[65,120],[68,98]]\n",
    "# Import numpy package\n",
    "import numpy as np\n",
    "\n",
    "# Create np_baseball (2 cols)\n",
    "np_baseball = np.array(baseball)\n",
    "\n",
    "# Print out the 3rd row of np_baseball\n",
    "print(np_baseball[2, :])\n",
    "\n",
    "# Select the entire second column of np_baseball: np_weight_lb\n",
    "np_weight_lb = np_baseball[:, 1]\n",
    "\n",
    "# Print out height of 4th player\n",
    "print(np_baseball[3, 0])"
   ]
  },
  {
   "cell_type": "code",
   "execution_count": 30,
   "id": "6dbb6648",
   "metadata": {},
   "outputs": [
    {
     "name": "stdout",
     "output_type": "stream",
     "text": [
      "[[ 78.2303559   88.83775102]\n",
      " [ 72.02614252 126.09732309]\n",
      " [ 66.1544228  125.08167641]\n",
      " [ 69.1544228  103.08167641]]\n"
     ]
    },
    {
     "ename": "ValueError",
     "evalue": "operands could not be broadcast together with shapes (4,2) (3,) ",
     "output_type": "error",
     "traceback": [
      "\u001b[1;31m---------------------------------------------------------------------------\u001b[0m",
      "\u001b[1;31mValueError\u001b[0m                                Traceback (most recent call last)",
      "Input \u001b[1;32mIn [30]\u001b[0m, in \u001b[0;36m<cell line: 20>\u001b[1;34m()\u001b[0m\n\u001b[0;32m     17\u001b[0m conversion \u001b[38;5;241m=\u001b[39m np\u001b[38;5;241m.\u001b[39marray([\u001b[38;5;241m0.0254\u001b[39m, \u001b[38;5;241m0.453592\u001b[39m, \u001b[38;5;241m1\u001b[39m])\n\u001b[0;32m     19\u001b[0m \u001b[38;5;66;03m# Print out product of np_baseball and conversion\u001b[39;00m\n\u001b[1;32m---> 20\u001b[0m \u001b[38;5;28mprint\u001b[39m(\u001b[43mnp_baseball\u001b[49m\u001b[43m \u001b[49m\u001b[38;5;241;43m*\u001b[39;49m\u001b[43m \u001b[49m\u001b[43mconversion\u001b[49m)\n",
      "\u001b[1;31mValueError\u001b[0m: operands could not be broadcast together with shapes (4,2) (3,) "
     ]
    }
   ],
   "source": [
    "# baseball is available as a regular list of lists\n",
    "# updated is available as 2D numpy array\n",
    "\n",
    "# Import numpy package\n",
    "import numpy as np\n",
    "updated = np.array([[  1.2303559,  -11.16224898     ],\n",
    " [  1.02614252,  16.09732309       ],\n",
    "    [  1.1544228,    5.08167641        ],\n",
    " [  1.1544228,    5.08167641        ]])\n",
    "# Create np_baseball (3 cols)\n",
    "np_baseball = np.array(baseball)\n",
    "\n",
    "# Print out addition of np_baseball and updated\n",
    "print(np_baseball + updated)\n",
    "\n",
    "# Create numpy array: conversion\n",
    "conversion = np.array([0.0254, 0.453592, 1])\n",
    "\n",
    "# Print out product of np_baseball and conversion\n",
    "print(np_baseball * conversion)"
   ]
  },
  {
   "cell_type": "code",
   "execution_count": 31,
   "id": "aae2bc1a",
   "metadata": {},
   "outputs": [
    {
     "name": "stdout",
     "output_type": "stream",
     "text": [
      "70.25\n",
      "69.5\n"
     ]
    }
   ],
   "source": [
    "# np_baseball is available\n",
    "\n",
    "# Import numpy\n",
    "import numpy as np\n",
    "\n",
    "# Create np_height_in from np_baseball\n",
    "np_height_in = np_baseball[:,0]\n",
    "\n",
    "# Print out the mean of np_height_in\n",
    "print(np.mean(np_height_in))\n",
    "\n",
    "# Print out the median of np_height_in\n",
    "print(np.median(np_height_in))"
   ]
  },
  {
   "cell_type": "code",
   "execution_count": 33,
   "id": "50499ac8",
   "metadata": {},
   "outputs": [
    {
     "name": "stdout",
     "output_type": "stream",
     "text": [
      "Average: 70.25\n",
      "Median: 69.5\n",
      "Standard Deviation: 4.437059837324712\n",
      "Correlation: [[ 1.         -0.59714845]\n",
      " [-0.59714845  1.        ]]\n"
     ]
    }
   ],
   "source": [
    "# np_baseball is available\n",
    "\n",
    "# Import numpy\n",
    "import numpy as np\n",
    "\n",
    "# Print mean height (first column)\n",
    "avg = np.mean(np_baseball[:,0])\n",
    "print(\"Average: \" + str(avg))\n",
    "\n",
    "# Print median height. Replace 'None'\n",
    "med = np.median(np_baseball[:,0])\n",
    "print(\"Median: \" + str(med))\n",
    "\n",
    "# Print out the standard deviation on height. Replace 'None'\n",
    "stddev = np.std(np_baseball[:,0])\n",
    "print(\"Standard Deviation: \" + str(stddev))\n",
    "\n",
    "# Print out correlation between first and second column. Replace 'None'\n",
    "corr = np.corrcoef(np_baseball[:,0],np_baseball[:,1])\n",
    "print(\"Correlation: \" + str(corr))"
   ]
  },
  {
   "cell_type": "code",
   "execution_count": 34,
   "id": "6f106ec1",
   "metadata": {},
   "outputs": [
    {
     "name": "stdout",
     "output_type": "stream",
     "text": [
      "Median height of goalkeepers: 191.0\n",
      "Median height of other players: 184.0\n"
     ]
    }
   ],
   "source": [
    "# heights and positions are available as lists\n",
    "positions = ['GK', 'M', 'A', 'D']\n",
    "heights = [191, 184, 185, 180]\n",
    "# Import numpy\n",
    "import numpy as np\n",
    "\n",
    "# Convert positions and heights to numpy arrays: np_positions, np_heights\n",
    "np_positions = np.array(positions)\n",
    "np_heights = np.array(heights)\n",
    "\n",
    "# Heights of the goalkeepers: gk_heights\n",
    "gkh =  np_positions == 'GK'\n",
    "gk_heights = np_heights[gkh]\n",
    "\n",
    "# Heights of the other players: other_heights\n",
    "oth =  np_positions != 'GK'\n",
    "other_heights = np_heights[oth]\n",
    "\n",
    "# Print out the median height of goalkeepers. Replace 'None'\n",
    "print(\"Median height of goalkeepers: \" + str(np.median(gk_heights)))\n",
    "\n",
    "# Print out the median height of other players. Replace 'None'\n",
    "print(\"Median height of other players: \" + str(np.median(other_heights)))"
   ]
  },
  {
   "cell_type": "code",
   "execution_count": null,
   "id": "07c894d5",
   "metadata": {},
   "outputs": [],
   "source": []
  }
 ],
 "metadata": {
  "kernelspec": {
   "display_name": "Python 3 (ipykernel)",
   "language": "python",
   "name": "python3"
  },
  "language_info": {
   "codemirror_mode": {
    "name": "ipython",
    "version": 3
   },
   "file_extension": ".py",
   "mimetype": "text/x-python",
   "name": "python",
   "nbconvert_exporter": "python",
   "pygments_lexer": "ipython3",
   "version": "3.9.12"
  }
 },
 "nbformat": 4,
 "nbformat_minor": 5
}
